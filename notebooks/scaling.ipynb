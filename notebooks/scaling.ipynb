{
 "cells": [
  {
   "cell_type": "code",
   "execution_count": 1,
   "metadata": {},
   "outputs": [],
   "source": [
    "%matplotlib inline\n",
    "import matplotlib.pyplot as plt\n",
    "\n",
    "import numpy as np"
   ]
  },
  {
   "cell_type": "code",
   "execution_count": 31,
   "metadata": {},
   "outputs": [
    {
     "data": {
      "text/plain": [
       "([<matplotlib.axis.XTick at 0x1142d04a8>,\n",
       "  <matplotlib.axis.XTick at 0x1142a99b0>,\n",
       "  <matplotlib.axis.XTick at 0x1142a9cc0>,\n",
       "  <matplotlib.axis.XTick at 0x11428ef60>,\n",
       "  <matplotlib.axis.XTick at 0x114288438>],\n",
       " <a list of 5 Text xticklabel objects>)"
      ]
     },
     "execution_count": 31,
     "metadata": {},
     "output_type": "execute_result"
    },
    {
     "data": {
      "image/png": "[encoded data removed]",
      "text/plain": [
       "<Figure size 432x288 with 1 Axes>"
      ]
     },
     "metadata": {},
     "output_type": "display_data"
    }
   ],
   "source": [
    "x = np.arange(1, 6)\n",
    "y = 2 ** x\n",
    "y2 = 4 ** x \n",
    "y3 = 20 ** x\n",
    "\n",
    "plt.bar(x, y3, color='C2', alpha=1)\n",
    "plt.bar(x, y2, color='C1', alpha=1)\n",
    "plt.bar(x, y, color='C0', alpha=1)\n",
    "plt.xticks(x)\n",
    "#plt.xlim(0,10)\n",
    "#plt.ylim(0,1000)"
   ]
  },
  {
   "cell_type": "code",
   "execution_count": null,
   "metadata": {},
   "outputs": [],
   "source": []
  }
 ],
 "metadata": {
  "kernelspec": {
   "display_name": "omnipotent (Python 3.6)",
   "language": "python",
   "name": "omnipotent"
  },
  "language_info": {
   "codemirror_mode": {
    "name": "ipython",
    "version": 3
   },
   "file_extension": ".py",
   "mimetype": "text/x-python",
   "name": "python",
   "nbconvert_exporter": "python",
   "pygments_lexer": "ipython3",
   "version": "3.6.5"
  }
 },
 "nbformat": 4,
 "nbformat_minor": 2
}
